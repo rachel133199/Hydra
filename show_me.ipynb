{
  "nbformat": 4,
  "nbformat_minor": 0,
  "metadata": {
    "colab": {
      "provenance": [],
      "collapsed_sections": [],
      "authorship_tag": "ABX9TyOSMINQvrrFIUkscqwXhsbl",
      "include_colab_link": true
    },
    "kernelspec": {
      "name": "python3",
      "display_name": "Python 3"
    },
    "language_info": {
      "name": "python"
    }
  },
  "cells": [
    {
      "cell_type": "markdown",
      "metadata": {
        "id": "view-in-github",
        "colab_type": "text"
      },
      "source": [
        "<a href=\"https://colab.research.google.com/github/rachel133199/Hydra/blob/main/show_me.ipynb\" target=\"_parent\"><img src=\"https://colab.research.google.com/assets/colab-badge.svg\" alt=\"Open In Colab\"/></a>"
      ]
    },
    {
      "cell_type": "code",
      "execution_count": 3,
      "metadata": {
        "id": "P3dAIydWfe_G"
      },
      "outputs": [],
      "source": [
        "x = 1 + 3"
      ]
    },
    {
      "cell_type": "markdown",
      "source": [
        "Why is there no easy way to insert text cells?"
      ],
      "metadata": {
        "id": "Q-wIh_z3fnyI"
      }
    },
    {
      "cell_type": "markdown",
      "source": [
        "why"
      ],
      "metadata": {
        "id": "EBZq1-jIhwu6"
      }
    },
    {
      "cell_type": "code",
      "source": [
        "save my code locals"
      ],
      "metadata": {
        "id": "F1Dy7AWTh3CW"
      },
      "execution_count": null,
      "outputs": []
    },
    {
      "cell_type": "markdown",
      "source": [
        "This looks really ugly"
      ],
      "metadata": {
        "id": "agSTR2hZh67X"
      }
    }
  ]
}